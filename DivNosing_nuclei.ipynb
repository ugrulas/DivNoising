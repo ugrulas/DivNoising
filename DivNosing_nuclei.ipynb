{
 "cells": [
  {
   "cell_type": "code",
   "execution_count": 1,
   "id": "592ebf7c",
   "metadata": {},
   "outputs": [
    {
     "name": "stderr",
     "output_type": "stream",
     "text": [
      "\u001b[32m\u001b[1m    Building\u001b[22m\u001b[39m Conda ─→ `~/.julia/scratchspaces/44cfe95a-1eb2-52ea-b672-e2afdf69b78f/299304989a5e6473d985212c28928899c74e9421/build.log`\n",
      "\u001b[32m\u001b[1m    Building\u001b[22m\u001b[39m PyCall → `~/.julia/scratchspaces/44cfe95a-1eb2-52ea-b672-e2afdf69b78f/169bb8ea6b1b143c5cf57df6d34d022a7b60c6db/build.log`\n",
      "\u001b[32m\u001b[1mPrecompiling\u001b[22m\u001b[39m project...\n",
      "\u001b[32m  ✓ \u001b[39mPyCall\n",
      "\u001b[32m  ✓ \u001b[39mMLDatasets\n",
      "  2 dependencies successfully precompiled in 51 seconds (225 already precompiled)\n"
     ]
    }
   ],
   "source": [
    "# ENV[\"PYTHON\"]= \"/kuacc/users/oulas15/.conda/envs/oulas15/bin/python\"\n",
    "# using Pkg\n",
    "# Pkg.build(\"PyCall\")"
   ]
  },
  {
   "cell_type": "code",
   "execution_count": 1,
   "id": "ae36e537",
   "metadata": {
    "scrolled": true
   },
   "outputs": [
    {
     "data": {
      "text/plain": [
       "KnetArray{Float32, N} where N"
      ]
     },
     "execution_count": 1,
     "metadata": {},
     "output_type": "execute_result"
    }
   ],
   "source": [
    "using Knet, CUDA, MLDatasets, ArgParse, Images, Random, Statistics,Base, Plots,NPZ\n",
    "#include(Knet.dir(\"data\",\"imagenet.jl\"))\n",
    "const F = Float32\n",
    "Atype = CUDA.functional() ? KnetArray{F} : Array{F}"
   ]
  },
  {
   "cell_type": "code",
   "execution_count": 2,
   "id": "651d45be",
   "metadata": {},
   "outputs": [
    {
     "data": {
      "text/plain": [
       "Dict{String, Array{T, 3} where T} with 4 entries:\n",
       "  \"X_val\"   => [15.1078 0.766439 … 20.7861 -12.73; -10.8562 -2.43127 … 28.4208 …\n",
       "  \"Y_val\"   => UInt16[0x0000 0x0000 … 0x0000 0x0000; 0x0000 0x0000 … 0x0000 0x0…\n",
       "  \"X_train\" => [-8.65205 -38.3173 … -9.87815 3.37247; -35.7896 -8.26069 … -16.3…\n",
       "  \"Y_train\" => UInt16[0x0000 0x0000 … 0x0000 0x0000; 0x0000 0x0000 … 0x0000 0x0…"
      ]
     },
     "execution_count": 2,
     "metadata": {},
     "output_type": "execute_result"
    }
   ],
   "source": [
    "train_data = npzread(\"../Mouse_n20/train/train_data.npz\")"
   ]
  },
  {
   "cell_type": "code",
   "execution_count": 3,
   "id": "3f5f3290",
   "metadata": {},
   "outputs": [
    {
     "data": {
      "text/plain": [
       "Dict{String, Array{T, 3} where T} with 2 entries:\n",
       "  \"Y_test\" => UInt16[0x0000 0x0000 … 0x0000 0x0000; 0x0000 0x0000 … 0x0000 0x00…\n",
       "  \"X_test\" => [-17.5679 -6.04057 … -53.2153 -15.2519; -6.9902 -4.6863 … 6.61619…"
      ]
     },
     "execution_count": 3,
     "metadata": {},
     "output_type": "execute_result"
    }
   ],
   "source": [
    "test_data = npzread(\"../Mouse_n20/test/test_data.npz\")"
   ]
  },
  {
   "cell_type": "code",
   "execution_count": 4,
   "id": "b099329b",
   "metadata": {},
   "outputs": [
    {
     "name": "stdout",
     "output_type": "stream",
     "text": [
      "(128, 128, 908)\n",
      "(128, 128, 160)\n",
      "(128, 128, 160)\n"
     ]
    }
   ],
   "source": [
    "xtrn=train_data[\"X_train\"];\n",
    "xval=train_data[\"X_val\"];\n",
    "yval=train_data[\"Y_val\"]\n",
    "yval=Array{F}(yval)\n",
    "xtrn=permutedims(xtrn, [2, 3, 1]);\n",
    "xval=permutedims(xval, [2, 3, 1]);\n",
    "yval=permutedims(yval, [2, 3, 1]);\n",
    "println(size(xtrn))\n",
    "println(size(xval))\n",
    "println(size(yval))"
   ]
  },
  {
   "cell_type": "code",
   "execution_count": 5,
   "id": "c4a74428",
   "metadata": {},
   "outputs": [],
   "source": [
    "#plot(Matrix{Gray{Float32}}(xval[:,:,1]./255.0))"
   ]
  },
  {
   "cell_type": "code",
   "execution_count": 6,
   "id": "39e2160c",
   "metadata": {},
   "outputs": [],
   "source": [
    "data = cat(xtrn,xval,dims=3);"
   ]
  },
  {
   "cell_type": "code",
   "execution_count": 7,
   "id": "eee76f9e",
   "metadata": {},
   "outputs": [],
   "source": [
    "data_mean = mean(data);\n",
    "data_std = stdm(data,data_mean);"
   ]
  },
  {
   "cell_type": "code",
   "execution_count": 8,
   "id": "a5311e5c",
   "metadata": {},
   "outputs": [],
   "source": [
    "batch_size = 32\n",
    "dtrn = minibatch(xtrn, batch_size; xsize = (128, 128, 1,:), xtype = Atype)\n",
    "dval = minibatch(xval,yval, 32; xsize = (128, 128, 1,:), xtype = Atype);"
   ]
  },
  {
   "cell_type": "code",
   "execution_count": 22,
   "id": "6c9d31ad",
   "metadata": {},
   "outputs": [
    {
     "data": {
      "text/plain": [
       "weights (generic function with 1 method)"
      ]
     },
     "execution_count": 22,
     "metadata": {},
     "output_type": "execute_result"
    }
   ],
   "source": [
    "function encode(ϕ, x)\n",
    "    #x = reshape(x, (128,128,1,:))\n",
    "    x = conv4(ϕ[1], x, padding=1)\n",
    "    x = relu.(x .+ ϕ[2])\n",
    "    x = conv4(ϕ[3], x, padding=1, stride=1)\n",
    "    x = relu.(x .+ ϕ[4])\n",
    "    x = pool(x, stride = 2, mode=0)\n",
    "    #println(size(x))\n",
    "    x = conv4(ϕ[5], x, padding=1)\n",
    "    x = relu.(x .+ ϕ[6])\n",
    "    x = conv4(ϕ[7], x, padding=1, stride=1)\n",
    "    x = relu.(x .+ ϕ[8])\n",
    "    x = pool(x, stride = 2, mode=0)\n",
    "    #println(size(x))\n",
    "    x = conv4(ϕ[9], x, padding=1)\n",
    "    x = relu.(x .+ ϕ[10])\n",
    "    x = conv4(ϕ[11], x, padding=1, stride=1)\n",
    "    x = relu.(x .+ ϕ[12])\n",
    "    x = pool(x, stride = 2, mode=0)\n",
    "    #println(size(x))\n",
    "    \n",
    "    mu = conv4(ϕ[13], x, padding=1, stride=1)\n",
    "    mu = mu .+ ϕ[14]\n",
    "    \n",
    "    logvar = conv4(ϕ[15], x, padding=1, stride=1)\n",
    "    logvar = logvar .+ ϕ[16]\n",
    "    \n",
    "    return mu, logvar\n",
    "end\n",
    "\n",
    "function decode(θ, z)\n",
    "    z = conv4(θ[1], z, padding=1)\n",
    "    z = relu.(z .+ θ[2])\n",
    "    z = conv4(θ[3], z, padding=1, stride=1)\n",
    "    z = relu.(z .+ θ[4])\n",
    "    z = deconv4(θ[5], z, padding=0, stride=2)\n",
    "    z = relu.(z .+ θ[6])\n",
    "    #println(size(z))\n",
    "\n",
    "    z = conv4(θ[7], z, padding=1)\n",
    "    z = relu.(z .+ θ[8])\n",
    "    z = conv4(θ[9], z, padding=1, stride=1)\n",
    "    z = relu.(z .+ θ[10]) \n",
    "    z = deconv4(θ[11], z, padding=0, stride=2)\n",
    "    z = relu.(z .+ θ[12])\n",
    "    \n",
    "    #println(size(z))\n",
    "    z = conv4(θ[13], z, padding=1)\n",
    "    z = relu.(z .+ θ[14])\n",
    "    z = conv4(θ[15], z, padding=1, stride=1)\n",
    "    z = relu.(z .+ θ[16]) \n",
    "    z = deconv4(θ[17], z, padding=0, stride=2)\n",
    "    z = relu.(z .+ θ[18])\n",
    "    #println(size(z))\n",
    "    z = conv4(θ[19], z, padding=1)\n",
    "    z = z .+ θ[20]\n",
    "    return z\n",
    "end\n",
    "\n",
    "\n",
    "\n",
    "function weights(channel)\n",
    "    \n",
    "    θ = [] # z->x\n",
    "\n",
    "    push!(θ, xavier(3, 3, channel*2, channel*4))\n",
    "    push!(θ, zeros(1, 1, channel*4, 1))\n",
    "\n",
    "    push!(θ, xavier(3,3,channel*4,channel*4))\n",
    "    push!(θ, zeros(1, 1, channel*4, 1))\n",
    "    \n",
    "    push!(θ, xavier(2, 2, channel*4, channel*4))\n",
    "    push!(θ, zeros(1,1,channel*4,1))\n",
    "    \n",
    "    \n",
    "    push!(θ, xavier(3, 3, channel*4, channel*2))\n",
    "    push!(θ, zeros(1,1, channel*2,1))\n",
    "    \n",
    "    push!(θ, xavier(3,3,channel*2,channel*2))\n",
    "    push!(θ, zeros(1, 1, channel*2, 1))\n",
    "    \n",
    "    push!(θ, xavier(2,2,channel*2,channel*2))\n",
    "    push!(θ, zeros(1, 1, channel*2, 1))\n",
    "    \n",
    "    \n",
    "    push!(θ, xavier(3, 3, channel*2, channel))\n",
    "    push!(θ, zeros(1,1, channel,1))\n",
    "    \n",
    "    push!(θ, xavier(3,3,channel,channel))\n",
    "    push!(θ, zeros(1, 1, channel, 1))\n",
    "    \n",
    "    push!(θ, xavier(2,2,channel,channel))\n",
    "    push!(θ, zeros(1, 1, channel, 1))\n",
    "    \n",
    "\n",
    "    push!(θ, xavier(3,3,channel,1))\n",
    "    push!(θ, zeros(1, 1, 1, 1))\n",
    "    \n",
    "    \n",
    "    θ = map(a->convert(Atype,a), θ)\n",
    "\n",
    "    ϕ = [] # x->z\n",
    "\n",
    "    push!(ϕ, xavier(3, 3, 1, channel))\n",
    "    push!(ϕ, zeros(1, 1, channel, 1))\n",
    "\n",
    "    push!(ϕ, xavier(3, 3, channel, channel))\n",
    "    push!(ϕ, zeros(1, 1, channel, 1))\n",
    "    \n",
    "    \n",
    "    push!(ϕ, xavier(3, 3, channel, channel*2))\n",
    "    push!(ϕ, zeros(1,1, channel*2, 1))\n",
    "\n",
    "    push!(ϕ, xavier(3, 3, channel*2,channel*2))\n",
    "    push!(ϕ, zeros(1, 1, channel*2, 1))\n",
    "    \n",
    "    \n",
    "    push!(ϕ, xavier(3, 3, channel*2, channel*4))\n",
    "    push!(ϕ, zeros(1,1, channel*4, 1))\n",
    "\n",
    "    push!(ϕ, xavier(3, 3, channel*4, channel*4))\n",
    "    push!(ϕ, zeros(1, 1, channel*4, 1))\n",
    "    \n",
    "    \n",
    "    push!(ϕ, xavier(3, 3, channel*4, channel*2))\n",
    "    push!(ϕ, zeros(1, 1, channel*2, 1))\n",
    "    \n",
    "    push!(ϕ, xavier(3, 3, channel*4, channel*2))\n",
    "    push!(ϕ, zeros(1, 1, channel*2, 1))\n",
    "\n",
    "    ϕ = map(a->convert(Atype,a), ϕ)\n",
    "    return θ, ϕ\n",
    "end"
   ]
  },
  {
   "cell_type": "code",
   "execution_count": 23,
   "id": "a7bc14a3",
   "metadata": {},
   "outputs": [
    {
     "data": {
      "text/plain": [
       "KLD (generic function with 1 method)"
      ]
     },
     "execution_count": 23,
     "metadata": {},
     "output_type": "execute_result"
    }
   ],
   "source": [
    "function KLD(mu, logvar)\n",
    "    kl_error = -0.5 * sum(1 .+ (logvar - mu.*mu - exp.(logvar)))\n",
    "    return kl_error\n",
    "end"
   ]
  },
  {
   "cell_type": "code",
   "execution_count": 24,
   "id": "e1e955b9",
   "metadata": {},
   "outputs": [
    {
     "data": {
      "text/plain": [
       "MSE (generic function with 1 method)"
      ]
     },
     "execution_count": 24,
     "metadata": {},
     "output_type": "execute_result"
    }
   ],
   "source": [
    "function MSE(x, y,gaus_std,data_std)\n",
    "    return mean((x - y).^2) / (2.0*(gaus_std/data_std)^2)\n",
    "end"
   ]
  },
  {
   "cell_type": "code",
   "execution_count": 25,
   "id": "2f67c052",
   "metadata": {},
   "outputs": [
    {
     "data": {
      "text/plain": [
       "reparameterize (generic function with 1 method)"
      ]
     },
     "execution_count": 25,
     "metadata": {},
     "output_type": "execute_result"
    }
   ],
   "source": [
    "function reparameterize(mu,logvar)\n",
    "    std = exp.(logvar.*0.5)\n",
    "    epsilon = convert(Atype, randn(F, size(mu)))\n",
    "    z = mu .+ (epsilon.*std)\n",
    "    return z \n",
    "end"
   ]
  },
  {
   "cell_type": "code",
   "execution_count": 26,
   "id": "545e1969",
   "metadata": {},
   "outputs": [
    {
     "data": {
      "text/plain": [
       "Dict{Symbol, Vector{Adam}} with 2 entries:\n",
       "  :decoder => [Adam(0.001, 0.9, 0.999, 1.0e-8, 0, 0.0, nothing, nothing), Adam(…\n",
       "  :encoder => [Adam(0.001, 0.9, 0.999, 1.0e-8, 0, 0.0, nothing, nothing), Adam(…"
      ]
     },
     "execution_count": 26,
     "metadata": {},
     "output_type": "execute_result"
    }
   ],
   "source": [
    "wdec, wenc = weights(32);\n",
    "w = Dict(\n",
    "        :encoder => wenc,\n",
    "        :decoder => wdec)\n",
    "opt = Dict(\n",
    "        :encoder => map(wi->Knet.Adam(lr = 1e-3), w[:encoder]),\n",
    "        :decoder => map(wi->Knet.Adam(lr = 1e-3), w[:decoder]),\n",
    "    )"
   ]
  },
  {
   "cell_type": "code",
   "execution_count": 35,
   "id": "fcfa6609",
   "metadata": {},
   "outputs": [
    {
     "name": "stdout",
     "output_type": "stream",
     "text": [
      "(64, 64, 32, 8)\n",
      "(32, 32, 64, 8)\n",
      "(16, 16, 128, 8)\n"
     ]
    },
    {
     "data": {
      "text/plain": [
       "(K32(16,16,64,8)[-0.016579967⋯], K32(16,16,64,8)[-0.007940645⋯])"
      ]
     },
     "execution_count": 35,
     "metadata": {},
     "output_type": "execute_result"
    }
   ],
   "source": [
    "# x = first(dtrn)\n",
    "# x_normalized = (x .- data_mean)./ data_std \n",
    "# mu, logvar = encode(wenc, x_normalized)"
   ]
  },
  {
   "cell_type": "code",
   "execution_count": 36,
   "id": "5f46db6a",
   "metadata": {
    "scrolled": false
   },
   "outputs": [
    {
     "name": "stdout",
     "output_type": "stream",
     "text": [
      "(32, 32, 128, 8)\n",
      "(64, 64, 64, 8)\n",
      "(128, 128, 32, 8)\n"
     ]
    }
   ],
   "source": [
    "# z = reparameterize(mu,logvar)\n",
    "# y = decode(wdec,z);"
   ]
  },
  {
   "cell_type": "code",
   "execution_count": 27,
   "id": "398fc2db",
   "metadata": {},
   "outputs": [],
   "source": [
    "function loss(w, x,gaus_std,data_mean,data_std,epoch)\n",
    "    wdec, wenc = w[:decoder], w[:encoder]\n",
    "    x_normalized = (x .- data_mean)./ data_std\n",
    "    mu, logvar = encode(wenc, x_normalized)\n",
    "    z = reparameterize(mu,logvar)\n",
    "    y = decode(wdec,z)\n",
    "    #y = (y .* data_std) .+ data_mean  \n",
    "    #println(KLD(mu,logvar))\n",
    "    #if epoch<20\n",
    "    #    return MSE(x_normalized,y,gaus_std,data_std) #+ (KLD(mu,logvar)/(128*128*8))\n",
    "    #else\n",
    "    return MSE(x_normalized,y,gaus_std,data_std) + (KLD(mu,logvar)/(128*128*32))\n",
    "    #end\n",
    "end\n",
    "lossgradient = grad(loss);"
   ]
  },
  {
   "cell_type": "code",
   "execution_count": 28,
   "id": "f8378668",
   "metadata": {},
   "outputs": [
    {
     "data": {
      "text/plain": [
       "val_mse (generic function with 1 method)"
      ]
     },
     "execution_count": 28,
     "metadata": {},
     "output_type": "execute_result"
    }
   ],
   "source": [
    "function val_mse(w, x,gaus_std,data_mean,data_std)\n",
    "    wdec, wenc = w[:decoder], w[:encoder]\n",
    "    x_normalized = (x .- data_mean)./ data_std\n",
    "    mu, logvar = encode(wenc, x_normalized)\n",
    "    z = reparameterize(mu,logvar)\n",
    "    y = decode(wdec,z)\n",
    "    #y = (y .* data_std) .+ data_mean  \n",
    "    return MSE(x_normalized,y,gaus_std,data_std), KLD(mu,logvar)/(128*128*32)\n",
    "end"
   ]
  },
  {
   "cell_type": "code",
   "execution_count": 29,
   "id": "13a1f09f",
   "metadata": {},
   "outputs": [
    {
     "data": {
      "text/plain": [
       "20"
      ]
     },
     "execution_count": 29,
     "metadata": {},
     "output_type": "execute_result"
    }
   ],
   "source": [
    "g_std = 20"
   ]
  },
  {
   "cell_type": "code",
   "execution_count": 30,
   "id": "7372037c",
   "metadata": {},
   "outputs": [],
   "source": [
    "x = first(dtrn);"
   ]
  },
  {
   "cell_type": "code",
   "execution_count": 31,
   "id": "b82d8905",
   "metadata": {},
   "outputs": [
    {
     "data": {
      "text/plain": [
       "(2.519552124748743, 0.0012312226463109255)"
      ]
     },
     "execution_count": 31,
     "metadata": {},
     "output_type": "execute_result"
    }
   ],
   "source": [
    "val_mse(w, x,g_std,data_mean,data_std)"
   ]
  },
  {
   "cell_type": "code",
   "execution_count": 43,
   "id": "c6ed3c36",
   "metadata": {},
   "outputs": [
    {
     "name": "stdout",
     "output_type": "stream",
     "text": [
      "(64, 64, 32, 8)\n",
      "(32, 32, 64, 8)\n",
      "(16, 16, 128, 8)\n",
      "(32, 32, 128, 8)\n",
      "(64, 64, 64, 8)\n",
      "(128, 128, 32, 8)\n"
     ]
    },
    {
     "data": {
      "text/plain": [
       "Dict{Symbol, Vector{KnetArray{Float32, 4}}} with 2 entries:\n",
       "  :decoder => [K32(3,3,64,128)[7.829876e-6⋯], K32(1,1,128,1)[0.00032571968⋯], K…\n",
       "  :encoder => [K32(3,3,1,32)[-0.00034068868⋯], K32(1,1,32,1)[0.0007768106⋯], K3…"
      ]
     },
     "execution_count": 43,
     "metadata": {},
     "output_type": "execute_result"
    }
   ],
   "source": [
    "dw = lossgradient(w, x,g_std,data_mean,data_std)"
   ]
  },
  {
   "cell_type": "code",
   "execution_count": 20,
   "id": "37a5b0ce",
   "metadata": {},
   "outputs": [],
   "source": [
    "tp = first(dval)\n",
    "x_,y_ = tp;"
   ]
  },
  {
   "cell_type": "code",
   "execution_count": 32,
   "id": "0acd4a5a",
   "metadata": {
    "scrolled": false
   },
   "outputs": [
    {
     "name": "stdout",
     "output_type": "stream",
     "text": [
      "Epoch1\n",
      "2.3187509060740727\n",
      "1.8124051166523714e-6\n",
      "Epoch2\n",
      "2.316062555725244\n",
      "4.851531411986798e-5\n",
      "Epoch3\n",
      "1.4697366810440764\n",
      "0.038274772465229034\n",
      "Epoch4\n",
      "0.9981796786205379\n",
      "0.051245033740997314\n",
      "Epoch5\n",
      "0.8493745332461279\n",
      "0.06040411815047264\n",
      "Epoch6\n",
      "0.8133631097466701\n",
      "0.060173433274030685\n",
      "Epoch7\n",
      "0.7677236439338035\n",
      "0.06915175914764404\n",
      "Epoch8\n",
      "0.7400181705470934\n",
      "0.06891046464443207\n",
      "Epoch9\n",
      "0.7239625061984765\n",
      "0.07285068929195404\n",
      "Epoch10\n",
      "0.7090624056071109\n",
      "0.07093406468629837\n",
      "Epoch11\n",
      "0.7108011209630495\n",
      "0.07088851928710938\n",
      "Epoch12\n",
      "0.6943939413149016\n",
      "0.07296082377433777\n",
      "Epoch13\n",
      "0.6740898215750659\n",
      "0.07264506816864014\n",
      "Epoch14\n",
      "0.6637041117609687\n",
      "0.07422909140586853\n",
      "Epoch15\n",
      "0.6546597580182534\n",
      "0.07201103121042252\n",
      "Epoch16\n",
      "0.6576374020353992\n",
      "0.0687367245554924\n",
      "Epoch17\n",
      "0.6698055904239368\n",
      "0.06766985356807709\n",
      "Epoch18\n",
      "0.6330734833707147\n",
      "0.06651546061038971\n",
      "Epoch19\n",
      "0.6233244209914182\n",
      "0.05868515372276306\n",
      "Epoch20\n",
      "0.6158974940527505\n",
      "0.05728546530008316\n",
      "Epoch21\n",
      "0.6078707022617039\n",
      "0.05581868439912796\n",
      "Epoch22\n",
      "0.606493234822908\n",
      "0.052871719002723694\n",
      "Epoch23\n",
      "0.6014946966605876\n",
      "0.05329661816358566\n",
      "Epoch24\n",
      "0.5982903162138417\n",
      "0.053909074515104294\n",
      "Epoch25\n",
      "0.5953110612806773\n",
      "0.05204396694898605\n",
      "Epoch26\n",
      "0.592204141253049\n",
      "0.0504768043756485\n",
      "Epoch27\n",
      "0.5916795867245337\n",
      "0.049545302987098694\n",
      "Epoch28\n",
      "0.5881519491300808\n",
      "0.048914603888988495\n",
      "Epoch29\n",
      "0.5864876715184959\n",
      "0.04927925765514374\n",
      "Epoch30\n",
      "0.5851126204537276\n",
      "0.04999193176627159\n",
      "Epoch31\n",
      "0.5828796894876217\n",
      "0.04815640673041344\n",
      "Epoch32\n",
      "0.5827698115908617\n",
      "0.0477362796664238\n",
      "Epoch33\n",
      "0.5788781740977347\n",
      "0.048139538615942\n",
      "Epoch34\n",
      "0.5990988618121136\n",
      "0.048157960176467896\n",
      "Epoch35\n",
      "0.580691260076526\n",
      "0.047544486820697784\n",
      "Epoch36\n",
      "0.578542298107883\n",
      "0.04626837745308876\n",
      "Epoch37\n",
      "0.5760283294180544\n",
      "0.04646236076951027\n",
      "Epoch38\n",
      "0.579993800562028\n",
      "0.04552800953388214\n",
      "Epoch39\n",
      "0.5855637440604009\n",
      "0.04688296839594841\n",
      "Epoch40\n",
      "0.5834778091809806\n",
      "0.044931553304195404\n",
      "Epoch41\n",
      "0.571902169401238\n",
      "0.046683765947818756\n",
      "Epoch42\n",
      "0.5715652865888747\n",
      "0.044644974172115326\n",
      "Epoch43\n",
      "0.5716547595494008\n",
      "0.04418369382619858\n",
      "Epoch44\n",
      "0.5723226184820595\n",
      "0.04419219493865967\n",
      "Epoch45\n",
      "0.5688757951745332\n",
      "0.04446414113044739\n",
      "Epoch46\n",
      "0.5684660855338349\n",
      "0.044447802007198334\n",
      "Epoch47\n",
      "0.5677575509717099\n",
      "0.04592485725879669\n",
      "Epoch48\n",
      "0.5769838039815112\n",
      "0.04629985988140106\n",
      "Epoch49\n",
      "0.564835886286206\n",
      "0.04511798173189163\n",
      "Epoch50\n",
      "0.5657098082262276\n",
      "0.04385934770107269\n",
      "Epoch51\n",
      "0.5657567932767664\n",
      "0.044580861926078796\n",
      "Epoch52\n",
      "0.5666677662852129\n",
      "0.04382021352648735\n",
      "Epoch53\n",
      "0.5645490089919162\n",
      "0.044386666268110275\n",
      "Epoch54\n",
      "0.5631358329147107\n",
      "0.04510488361120224\n",
      "Epoch55\n",
      "0.5930087266827755\n",
      "0.04324205219745636\n",
      "Epoch56\n",
      "0.5708760158974706\n",
      "0.047814950346946716\n",
      "Epoch57\n",
      "0.5644938351182835\n",
      "0.04548690468072891\n",
      "Epoch58\n",
      "0.5640274078094348\n",
      "0.04494589567184448\n",
      "Epoch59\n",
      "0.5646574102156593\n",
      "0.045222681015729904\n",
      "Epoch60\n",
      "0.5653034546605678\n",
      "0.04488467425107956\n",
      "Epoch61\n",
      "0.5641629932409896\n",
      "0.045699071139097214\n",
      "Epoch62\n",
      "0.5655343526232156\n",
      "0.045302048325538635\n",
      "Epoch63\n",
      "0.5644550388908386\n",
      "0.044495198875665665\n",
      "Epoch64\n",
      "0.5623216155496238\n",
      "0.04479985684156418\n",
      "Epoch65\n",
      "0.5605446073774961\n",
      "0.04434320703148842\n",
      "Epoch66\n",
      "0.5588908007200312\n",
      "0.04485102742910385\n",
      "Epoch67\n",
      "0.5575679030613611\n",
      "0.0442187674343586\n",
      "Epoch68\n",
      "0.556638136032699\n",
      "0.044267572462558746\n",
      "Epoch69\n"
     ]
    },
    {
     "ename": "LoadError",
     "evalue": "DimensionMismatch(\"Error converting batch from 16384×908 Matrix{Float64} to KnetArray{Float32, N} where N: InterruptException()\")",
     "output_type": "error",
     "traceback": [
      "DimensionMismatch(\"Error converting batch from 16384×908 Matrix{Float64} to KnetArray{Float32, N} where N: InterruptException()\")",
      "",
      "Stacktrace:",
      " [1] iterate",
      "   @ ~/.julia/packages/Knet/RCkV0/src/train20/data.jl:65 [inlined]",
      " [2] iterate(e::Base.Iterators.Enumerate{Knet.Train20.Data{KnetArray{Float32, N} where N}}, state::Tuple{Int64, Int64})",
      "   @ Base.Iterators ./iterators.jl:159",
      " [3] top-level scope",
      "   @ ./In[32]:6",
      " [4] eval",
      "   @ ./boot.jl:360 [inlined]",
      " [5] include_string(mapexpr::typeof(REPL.softscope), mod::Module, code::String, filename::String)",
      "   @ Base ./loading.jl:1116"
     ]
    }
   ],
   "source": [
    "number_of_epochs = 200\n",
    "for epoch in 1:number_of_epochs\n",
    "   println(\"Epoch\",epoch)\n",
    "    for (i,x)  in enumerate(dtrn)\n",
    "        dw = lossgradient(w, x,g_std,data_mean,data_std,epoch)\n",
    "        update!(w, dw, opt)\n",
    "    end\n",
    "    ms,kld  = val_mse(w,x_,g_std,data_mean,data_std) \n",
    "    println(ms)\n",
    "    println(kld)\n",
    "end"
   ]
  },
  {
   "cell_type": "code",
   "execution_count": 35,
   "id": "f47cd940",
   "metadata": {},
   "outputs": [
    {
     "data": {
      "text/plain": [
       "Dict{Symbol, Vector{KnetArray{Float32, 4}}} with 2 entries:\n",
       "  :decoder => [K32(3,3,64,64)[-0.12707093⋯], K32(1,1,64,1)[-0.031114511⋯], K32(…\n",
       "  :encoder => [K32(3,3,1,64)[-0.1059588⋯], K32(1,1,64,1)[-0.25156972⋯], K32(3,3…"
      ]
     },
     "execution_count": 35,
     "metadata": {},
     "output_type": "execute_result"
    }
   ],
   "source": [
    "dw_"
   ]
  },
  {
   "cell_type": "code",
   "execution_count": null,
   "id": "d86a2aaf",
   "metadata": {},
   "outputs": [],
   "source": []
  }
 ],
 "metadata": {
  "kernelspec": {
   "display_name": "Julia 1.6.3",
   "language": "julia",
   "name": "julia-1.6"
  },
  "language_info": {
   "file_extension": ".jl",
   "mimetype": "application/julia",
   "name": "julia",
   "version": "1.6.3"
  }
 },
 "nbformat": 4,
 "nbformat_minor": 5
}
