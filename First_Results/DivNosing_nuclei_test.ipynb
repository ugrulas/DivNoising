{
 "cells": [
  {
   "cell_type": "code",
   "execution_count": null,
   "id": "592ebf7c",
   "metadata": {},
   "outputs": [],
   "source": [
    "# ENV[\"PYTHON\"]= \"/kuacc/users/oulas15/.conda/envs/oulas15/bin/python\"\n",
    "# using Pkg\n",
    "# Pkg.build(\"PyCall\")"
   ]
  },
  {
   "cell_type": "code",
   "execution_count": 1,
   "id": "ae36e537",
   "metadata": {
    "scrolled": true
   },
   "outputs": [
    {
     "data": {
      "text/plain": [
       "KnetArray{Float32, N} where N"
      ]
     },
     "execution_count": 1,
     "metadata": {},
     "output_type": "execute_result"
    }
   ],
   "source": [
    "using Knet, CUDA, MLDatasets, ArgParse, Images, Random, Statistics,Base, Plots,NPZ\n",
    "#include(Knet.dir(\"data\",\"imagenet.jl\"))\n",
    "const F = Float32\n",
    "Atype = CUDA.functional() ? KnetArray{F} : Array{F}"
   ]
  },
  {
   "cell_type": "code",
   "execution_count": 2,
   "id": "00611641",
   "metadata": {},
   "outputs": [
    {
     "data": {
      "text/plain": [
       "(23.206272901271582, 42.44736819464951)"
      ]
     },
     "execution_count": 2,
     "metadata": {},
     "output_type": "execute_result"
    }
   ],
   "source": [
    "data_mean,data_std = 23.206272901271582, 42.44736819464951"
   ]
  },
  {
   "cell_type": "code",
   "execution_count": 3,
   "id": "3f5f3290",
   "metadata": {},
   "outputs": [
    {
     "data": {
      "text/plain": [
       "Dict{String, Array{T, 3} where T} with 2 entries:\n",
       "  \"Y_test\" => UInt16[0x0000 0x0000 … 0x0000 0x0000; 0x0000 0x0000 … 0x0000 0x00…\n",
       "  \"X_test\" => UInt8[0x00 0x00 … 0x01 0x01; 0x01 0x00 … 0x00 0x00; … ; 0x01 0x01…"
      ]
     },
     "execution_count": 3,
     "metadata": {},
     "output_type": "execute_result"
    }
   ],
   "source": [
    "test_data = npzread(\"../Mouse_n0/test/test_data.npz\")"
   ]
  },
  {
   "cell_type": "code",
   "execution_count": 4,
   "id": "b099329b",
   "metadata": {},
   "outputs": [],
   "source": [
    "xtst=test_data[\"X_test\"];\n",
    "xtst=permutedims(xtst, [2, 3, 1]);"
   ]
  },
  {
   "cell_type": "code",
   "execution_count": 5,
   "id": "48fc9a3c",
   "metadata": {},
   "outputs": [],
   "source": [
    "test_noisy = Array{Float64}(xtst) + Array(randn(Float64,size(xtst))*(20));"
   ]
  },
  {
   "cell_type": "code",
   "execution_count": 6,
   "id": "a5311e5c",
   "metadata": {},
   "outputs": [],
   "source": [
    "batch_size = 1\n",
    "dtst = minibatch(test_noisy,xtst, 1; xsize = (256, 256, 1,:),ysize = (256, 256, 1,:), xtype = Atype,ytype=Atype);"
   ]
  },
  {
   "cell_type": "code",
   "execution_count": 7,
   "id": "6c9d31ad",
   "metadata": {},
   "outputs": [
    {
     "data": {
      "text/plain": [
       "decode (generic function with 1 method)"
      ]
     },
     "execution_count": 7,
     "metadata": {},
     "output_type": "execute_result"
    }
   ],
   "source": [
    "function encode(ϕ, x)\n",
    "    x = conv4(ϕ[1], x, padding=1)\n",
    "    x = relu.(x .+ ϕ[2])\n",
    "    x = conv4(ϕ[3], x, padding=1, stride=1)\n",
    "    x = relu.(x .+ ϕ[4])\n",
    "    x = pool(x, stride = 2, mode=0)\n",
    "  \n",
    "    x = conv4(ϕ[5], x, padding=1)\n",
    "    x = relu.(x .+ ϕ[6])\n",
    "    x = conv4(ϕ[7], x, padding=1, stride=1)\n",
    "    x = relu.(x .+ ϕ[8])\n",
    "    x = pool(x, stride = 2, mode=0)\n",
    " \n",
    "    x = conv4(ϕ[9], x, padding=1)\n",
    "    x = relu.(x .+ ϕ[10])\n",
    "    x = conv4(ϕ[11], x, padding=1, stride=1)\n",
    "    x = relu.(x .+ ϕ[12])\n",
    "    x = pool(x, stride = 2, mode=0)\n",
    "\n",
    "    \n",
    "    mu = conv4(ϕ[13], x, padding=1, stride=1)\n",
    "    mu = mu .+ ϕ[14]\n",
    "    \n",
    "    logvar = conv4(ϕ[15], x, padding=1, stride=1)\n",
    "    logvar = logvar .+ ϕ[16]\n",
    "    \n",
    "    return mu, logvar\n",
    "end\n",
    "\n",
    "function decode(θ, z)\n",
    "    z = conv4(θ[1], z, padding=1)\n",
    "    z = relu.(z .+ θ[2])\n",
    "    z = conv4(θ[3], z, padding=1, stride=1)\n",
    "    z = relu.(z .+ θ[4])\n",
    "    z = deconv4(θ[5], z, padding=0, stride=2)\n",
    "    z = relu.(z .+ θ[6])\n",
    "  \n",
    "    z = conv4(θ[7], z, padding=1)\n",
    "    z = relu.(z .+ θ[8])\n",
    "    z = conv4(θ[9], z, padding=1, stride=1)\n",
    "    z = relu.(z .+ θ[10]) \n",
    "    z = deconv4(θ[11], z, padding=0, stride=2)\n",
    "    z = relu.(z .+ θ[12])\n",
    "    \n",
    "    z = conv4(θ[13], z, padding=1)\n",
    "    z = relu.(z .+ θ[14])\n",
    "    z = conv4(θ[15], z, padding=1, stride=1)\n",
    "    z = relu.(z .+ θ[16]) \n",
    "    z = deconv4(θ[17], z, padding=0, stride=2)\n",
    "    z = relu.(z .+ θ[18])\n",
    "    \n",
    "    z = conv4(θ[19], z, padding=1)\n",
    "    z = z .+ θ[20]\n",
    "    return z\n",
    "end"
   ]
  },
  {
   "cell_type": "code",
   "execution_count": 8,
   "id": "e1e955b9",
   "metadata": {},
   "outputs": [
    {
     "data": {
      "text/plain": [
       "MSE (generic function with 1 method)"
      ]
     },
     "execution_count": 8,
     "metadata": {},
     "output_type": "execute_result"
    }
   ],
   "source": [
    "function MSE(x, y,)\n",
    "    return mean((x - y).^2)\n",
    "end"
   ]
  },
  {
   "cell_type": "code",
   "execution_count": 9,
   "id": "2f67c052",
   "metadata": {},
   "outputs": [
    {
     "data": {
      "text/plain": [
       "reparameterize (generic function with 1 method)"
      ]
     },
     "execution_count": 9,
     "metadata": {},
     "output_type": "execute_result"
    }
   ],
   "source": [
    "function reparameterize(mu,logvar)\n",
    "    std = exp.(logvar.*0.5)\n",
    "    epsilon = convert(Atype, randn(F, size(mu)))\n",
    "    z = mu .+ (epsilon.*std)\n",
    "    return z \n",
    "end"
   ]
  },
  {
   "cell_type": "code",
   "execution_count": 10,
   "id": "2f23c41a",
   "metadata": {},
   "outputs": [
    {
     "data": {
      "text/plain": [
       "Dict{Symbol, Vector{KnetArray{Float32, 4}}} with 2 entries:\n",
       "  :decoder => [K32(3,3,64,128)[0.00014185027⋯], K32(1,1,128,1)[0.36012068⋯], K3…\n",
       "  :encoder => [K32(3,3,1,32)[0.022676684⋯], K32(1,1,32,1)[0.00011777959⋯], K32(…"
      ]
     },
     "execution_count": 10,
     "metadata": {},
     "output_type": "execute_result"
    }
   ],
   "source": [
    "w2 = Knet.load(\"best_aug.jld2\",\"w\",)"
   ]
  },
  {
   "cell_type": "code",
   "execution_count": 11,
   "id": "398fc2db",
   "metadata": {},
   "outputs": [
    {
     "data": {
      "text/plain": [
       "inference_forward (generic function with 1 method)"
      ]
     },
     "execution_count": 11,
     "metadata": {},
     "output_type": "execute_result"
    }
   ],
   "source": [
    "function inference_forward(w,x,y_hat,data_mean,data_std,n)\n",
    "    wdec, wenc = w[:decoder], w[:encoder]\n",
    "    x_normalized = (x .- data_mean)./ data_std\n",
    "    mu, logvar = encode(wenc, x_normalized)\n",
    "    y_total = Atype(zeros(Float32,size(x)))\n",
    "    for i in 1:n\n",
    "        z = reparameterize(mu,logvar)\n",
    "        y = decode(wdec,z)\n",
    "        y  = (y.*data_std) .+ data_mean\n",
    "        y_total = y_total .+ y\n",
    "    end\n",
    "    y_total = y_total./n\n",
    "    return MSE(y_hat,y_total)\n",
    "end"
   ]
  },
  {
   "cell_type": "code",
   "execution_count": 13,
   "id": "d805ed90",
   "metadata": {},
   "outputs": [],
   "source": [
    "PSNR_total = 0\n",
    "for (i,x)  in enumerate(dtst)\n",
    "    noisy,y = x\n",
    "    mse = inference_forward(w2,noisy,y,data_mean,data_std,1000)\n",
    "    PSNR_total += 10*Base.log10((255*255)/mse)\n",
    "end"
   ]
  },
  {
   "cell_type": "code",
   "execution_count": 14,
   "id": "b3dd85c6",
   "metadata": {},
   "outputs": [
    {
     "data": {
      "text/plain": [
       "34.08879f0"
      ]
     },
     "execution_count": 14,
     "metadata": {},
     "output_type": "execute_result"
    }
   ],
   "source": [
    "PSNR_total/length(dtst)"
   ]
  },
  {
   "cell_type": "code",
   "execution_count": null,
   "id": "ec249c99",
   "metadata": {},
   "outputs": [],
   "source": []
  }
 ],
 "metadata": {
  "kernelspec": {
   "display_name": "Julia 1.6.3",
   "language": "julia",
   "name": "julia-1.6"
  },
  "language_info": {
   "file_extension": ".jl",
   "mimetype": "application/julia",
   "name": "julia",
   "version": "1.6.3"
  }
 },
 "nbformat": 4,
 "nbformat_minor": 5
}
