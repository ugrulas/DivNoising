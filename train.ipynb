{
 "cells": [
  {
   "cell_type": "markdown",
   "id": "36db766f",
   "metadata": {},
   "source": [
    "# Train Fully Unsupervised & Unsupervised Models For DenoiSeg Mouse and Mouse s&p datasets"
   ]
  },
  {
   "cell_type": "code",
   "execution_count": 1,
   "id": "20d2a0e9",
   "metadata": {},
   "outputs": [
    {
     "data": {
      "text/plain": [
       "Main.DenoiSegMouse"
      ]
     },
     "execution_count": 1,
     "metadata": {},
     "output_type": "execute_result"
    }
   ],
   "source": [
    "include(\"train_mouse.jl\")"
   ]
  },
  {
   "cell_type": "code",
   "execution_count": 2,
   "id": "c90dc113",
   "metadata": {},
   "outputs": [
    {
     "name": "stdout",
     "output_type": "stream",
     "text": [
      "usage: <PROGRAM> [--seed SEED] [--batchsize BATCHSIZE]\n",
      "                 [--epochs EPOCHS] [--nf NF] [--lr LR]\n",
      "                 [--gauss_std GAUSS_STD] [--kl_anneal KL_ANNEAL]\n",
      "                 [--minvar MINVAR] [--dataset DATASET]\n",
      "\n",
      "Fully Unsupervised  or Unsupervised Training on DenoiSeg Mouse and\n",
      "DenoiSeg Mouse s&p datasets.\n",
      "\n",
      "optional arguments:\n",
      "  --seed SEED           random number seed: use a nonnegative int for\n",
      "                        repeatable results (type: Int64, default: -1)\n",
      "  --batchsize BATCHSIZE\n",
      "                        minibatch size (type: Int64, default: 32)\n",
      "  --epochs EPOCHS       number of epochs for training (type: Int64,\n",
      "                        default: 1000)\n",
      "  --nf NF               number of filters for first conv layer of\n",
      "                        encoder (type: Int64, default: 32)\n",
      "  --lr LR               initial learning rate (type: Float64, default:\n",
      "                        0.001)\n",
      "  --gauss_std GAUSS_STD\n",
      "                        Gaussian noise assumption for the dataset,if\n",
      "                        it is negative fully unsupervised traning is\n",
      "                        performed (type: Float64, default: -1.0)\n",
      "  --kl_anneal KL_ANNEAL\n",
      "                        How many epochs to perform kl annealing\n",
      "                        starting from first epoch. [To prevent\n",
      "                        posterior collapse, KL annealing aproach might\n",
      "                        be needed.] (type: Int64, default: 0)\n",
      "  --minvar MINVAR       minimum allowed variance required for\n",
      "                        [original implementation uses 9.0 for Mouse\n",
      "                        and  1.0 for Mouse s&p] (type: Float64,\n",
      "                        default: -1.0)\n",
      "  --dataset DATASET     Choose 0 for  Mouse and 1 for Mouse s&p (type:\n",
      "                        Int64, default: 0)\n",
      "\n"
     ]
    }
   ],
   "source": [
    "DenoiSegMouse.main(\"--help\")"
   ]
  },
  {
   "cell_type": "code",
   "execution_count": null,
   "id": "8d92cc14",
   "metadata": {},
   "outputs": [],
   "source": [
    "DenoiSegMouse.main(\"--dataset 0 --minvar 9\")"
   ]
  },
  {
   "cell_type": "code",
   "execution_count": null,
   "id": "10f22202",
   "metadata": {},
   "outputs": [],
   "source": [
    "DenoiSegMouse.main(\"--dataset 0 --gauss_std 20 --kl_anneal 5 \")"
   ]
  },
  {
   "cell_type": "code",
   "execution_count": null,
   "id": "558680fd",
   "metadata": {},
   "outputs": [],
   "source": [
    "DenoiSegMouse.main(\"--dataset 1 --minvar 1.0\")"
   ]
  },
  {
   "cell_type": "markdown",
   "id": "84a98645",
   "metadata": {},
   "source": [
    "# Train Fully Unsupervised Model For W2S datasets"
   ]
  },
  {
   "cell_type": "code",
   "execution_count": 1,
   "id": "d68f49ba",
   "metadata": {},
   "outputs": [
    {
     "data": {
      "text/plain": [
       "Main.W2S"
      ]
     },
     "execution_count": 1,
     "metadata": {},
     "output_type": "execute_result"
    }
   ],
   "source": [
    "include(\"train_W2S.jl\")"
   ]
  },
  {
   "cell_type": "code",
   "execution_count": 2,
   "id": "35cb408f",
   "metadata": {},
   "outputs": [
    {
     "name": "stdout",
     "output_type": "stream",
     "text": [
      "usage: <PROGRAM> [--seed SEED] [--batchsize BATCHSIZE]\n",
      "                 [--epochs EPOCHS] [--nf NF] [--lr LR]\n",
      "                 [--channel CHANNEL] [--avg AVG] [--minvar MINVAR]\n",
      "\n",
      "Fully Unsupervised Training on W2S datasets.\n",
      "\n",
      "optional arguments:\n",
      "  --seed SEED           random number seed: use a nonnegative int for\n",
      "                        repeatable results (type: Int64, default: -1)\n",
      "  --batchsize BATCHSIZE\n",
      "                        minibatch size (type: Int64, default: 32)\n",
      "  --epochs EPOCHS       number of epochs for training (type: Int64,\n",
      "                        default: 1000)\n",
      "  --nf NF               number of filters for first conv layer of\n",
      "                        encoder (type: Int64, default: 32)\n",
      "  --lr LR               initial learning rate (type: Float64, default:\n",
      "                        0.001)\n",
      "  --channel CHANNEL     W2S dataset channel to train 0,1 or 2 (type:\n",
      "                        Int64)\n",
      "  --avg AVG             W2S 1 or 16 corresponds to Avg1 and Avg 16\n",
      "                        respectively (type: Int64)\n",
      "  --minvar MINVAR       minimum allowed variance [original\n",
      "                        implementation uses 1.0 for Avg16 9.0 for\n",
      "                        Avg1] (type: Float64)\n",
      "\n"
     ]
    }
   ],
   "source": [
    "W2S.main(\"--help\")"
   ]
  },
  {
   "cell_type": "code",
   "execution_count": null,
   "id": "a1213f22",
   "metadata": {},
   "outputs": [],
   "source": [
    "W2S.main(\"--channel 0 --avg 16 --minvar 1.0\")"
   ]
  },
  {
   "cell_type": "code",
   "execution_count": null,
   "id": "152b218a",
   "metadata": {},
   "outputs": [],
   "source": [
    "W2S.main(\"--channel 1 --avg 16 --minvar 1.0\")"
   ]
  },
  {
   "cell_type": "code",
   "execution_count": null,
   "id": "bcddae78",
   "metadata": {},
   "outputs": [],
   "source": [
    "W2S.main(\"--channel 2 --avg 16 --minvar 1.0\")"
   ]
  },
  {
   "cell_type": "code",
   "execution_count": null,
   "id": "fcf2e638",
   "metadata": {},
   "outputs": [],
   "source": [
    "W2S.main(\"--channel 0 --avg 1 --minvar 9.0\")"
   ]
  },
  {
   "cell_type": "code",
   "execution_count": null,
   "id": "20fce086",
   "metadata": {},
   "outputs": [],
   "source": [
    "W2S.main(\"--channel 1 --avg 1 --minvar 9.0\")"
   ]
  },
  {
   "cell_type": "code",
   "execution_count": null,
   "id": "2e67cc96",
   "metadata": {},
   "outputs": [],
   "source": [
    "W2S.main(\"--channel 2 --avg 1 --minvar 1.0\")"
   ]
  }
 ],
 "metadata": {
  "kernelspec": {
   "display_name": "Julia 1.6.3",
   "language": "julia",
   "name": "julia-1.6"
  },
  "language_info": {
   "file_extension": ".jl",
   "mimetype": "application/julia",
   "name": "julia",
   "version": "1.6.3"
  }
 },
 "nbformat": 4,
 "nbformat_minor": 5
}
