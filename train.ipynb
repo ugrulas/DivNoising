{
 "cells": [
  {
   "cell_type": "markdown",
   "id": "84a98645",
   "metadata": {},
   "source": [
    "# Train Fully Unsupervised Model For W2S datasets"
   ]
  },
  {
   "cell_type": "code",
   "execution_count": 1,
   "id": "d68f49ba",
   "metadata": {},
   "outputs": [
    {
     "data": {
      "text/plain": [
       "Main.W2S"
      ]
     },
     "execution_count": 1,
     "metadata": {},
     "output_type": "execute_result"
    }
   ],
   "source": [
    "include(\"train_W2S.jl\")"
   ]
  },
  {
   "cell_type": "code",
   "execution_count": 2,
   "id": "35cb408f",
   "metadata": {},
   "outputs": [
    {
     "name": "stdout",
     "output_type": "stream",
     "text": [
      "usage: <PROGRAM> [--seed SEED] [--batchsize BATCHSIZE]\n",
      "                 [--epochs EPOCHS] [--nf NF] [--lr LR]\n",
      "                 [--channel CHANNEL] [--avg AVG] [--minvar MINVAR]\n",
      "\n",
      "Fully Unsupervised Training on W2S datasets.\n",
      "\n",
      "optional arguments:\n",
      "  --seed SEED           random number seed: use a nonnegative int for\n",
      "                        repeatable results (type: Int64, default: -1)\n",
      "  --batchsize BATCHSIZE\n",
      "                        minibatch size (type: Int64, default: 32)\n",
      "  --epochs EPOCHS       number of epochs for training (type: Int64,\n",
      "                        default: 1000)\n",
      "  --nf NF               number of filters for first conv layer of\n",
      "                        encoder (type: Int64, default: 32)\n",
      "  --lr LR               initial learning rate (type: Float64, default:\n",
      "                        0.001)\n",
      "  --channel CHANNEL     W2S dataset channel to train 0,1 or 2 (type:\n",
      "                        Int64)\n",
      "  --avg AVG             W2S 1 or 16 corresponds to Avg1 and Avg 16\n",
      "                        respectively (type: Int64)\n",
      "  --minvar MINVAR       minimum allowed variance [original\n",
      "                        implementation uses 1.0 for Avg16 9.0 for\n",
      "                        Avg1] (type: Float64)\n",
      "\n"
     ]
    }
   ],
   "source": [
    "W2S.main(\"--help\")"
   ]
  },
  {
   "cell_type": "code",
   "execution_count": null,
   "id": "a1213f22",
   "metadata": {},
   "outputs": [],
   "source": [
    "W2S.main(\"--channel 0 --avg 16 --minvar 1.0\")"
   ]
  },
  {
   "cell_type": "code",
   "execution_count": null,
   "id": "152b218a",
   "metadata": {},
   "outputs": [],
   "source": [
    "W2S.main(\"--channel 1 --avg 16 --minvar 1.0\")"
   ]
  },
  {
   "cell_type": "code",
   "execution_count": null,
   "id": "bcddae78",
   "metadata": {},
   "outputs": [],
   "source": [
    "W2S.main(\"--channel 2 --avg 16 --minvar 1.0\")"
   ]
  },
  {
   "cell_type": "code",
   "execution_count": null,
   "id": "fcf2e638",
   "metadata": {},
   "outputs": [],
   "source": [
    "W2S.main(\"--channel 0 --avg 1 --minvar 1.0\")"
   ]
  },
  {
   "cell_type": "code",
   "execution_count": null,
   "id": "20fce086",
   "metadata": {},
   "outputs": [],
   "source": [
    "W2S.main(\"--channel 1 --avg 1 --minvar 1.0\")"
   ]
  },
  {
   "cell_type": "code",
   "execution_count": null,
   "id": "2e67cc96",
   "metadata": {},
   "outputs": [],
   "source": [
    "W2S.main(\"--channel 2 --avg 1 --minvar 1.0\")"
   ]
  }
 ],
 "metadata": {
  "kernelspec": {
   "display_name": "Julia 1.6.3",
   "language": "julia",
   "name": "julia-1.6"
  },
  "language_info": {
   "file_extension": ".jl",
   "mimetype": "application/julia",
   "name": "julia",
   "version": "1.6.3"
  }
 },
 "nbformat": 4,
 "nbformat_minor": 5
}
